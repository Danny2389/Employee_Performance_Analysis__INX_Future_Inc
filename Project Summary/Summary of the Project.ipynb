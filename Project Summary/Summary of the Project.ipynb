{
 "cells": [
  {
   "cell_type": "markdown",
   "metadata": {},
   "source": [
    "# Employee Performance Analysis\n",
    "#### INX Future Inc. \n",
    "<pre>\n",
    "Candidate Name      : Siramasetty Vijaya Sai Dinesh\n",
    "Candidate E-Mail    : svsdinni@gmail.com\n",
    "Project Code        : 10281\n",
    "REP Name            : DataMites™ Solutions Pvt Ltd\n",
    "Assesment ID        : E10901-PR2-V18\n",
    "Module              : Certified Data Scientist - Project\n",
    "Exam Format         : Open Project- IABAC™ Project Submission\n",
    "Project Assessment  : IABAC™ \n",
    "Registered Trainer  : Ashok Kumar A\n",
    "Submission Deadline Date:   12-May-2025 \n",
    "</pre>"
   ]
  },
  {
   "cell_type": "markdown",
   "metadata": {},
   "source": [
    "# <i>Project Summary"
   ]
  },
  {
   "cell_type": "markdown",
   "metadata": {},
   "source": [
    "<b>INX Future Inc Employee Performance - Project</b>"
   ]
  },
  {
   "cell_type": "markdown",
   "metadata": {},
   "source": [
    "The Data science project which is given here is an analysis of employee \n",
    "performance. The goal of the project is to find the performance rating of the employees depending on features of the data, Such as TotalWorkExperienceInYears, EmpDepartment, Gender, ExperienceYearsInCurrentRole etc.,<br> The Goal and Insights of the project are as follows:\n",
    "1. Department wise performances\n",
    "* Top 3 Important Factors effecting employee performance\n",
    "* A trained model which can predict the employee performance based on factors as inputs.<br>\n",
    "This will be used to hire employees\n",
    "* Recommendations to improve the employee performance based on insights from analysis\n"
   ]
  },
  {
   "cell_type": "markdown",
   "metadata": {},
   "source": [
    "The given Employee dataset consist of 1200 rows. The features present \n",
    "in the data are 28 columns. The shape of the dataset is 1200x28. The 28 features<br> are classified into quantitative and qualitative where 19 features are quantitative (11 columns consists numeric data & 8 columns consists ordinal data) and<br>\n",
    "8 features are qualitative. EmpNumber consist alphanumerical data (distinct values) which doesn't play a role as a relevant feature for performance rating."
   ]
  },
  {
   "cell_type": "markdown",
   "metadata": {},
   "source": [
    "From Correlation we can get the important aspects of the data, Correlation between features and Performance Rating.Correlation is a statistical measure <br> that expresses the extent to which two variables are linearly related.The analysis of the project has gone through the stage of distribution analysis,<br> correlation analysis and analysis by each department to satisfy the project goal."
   ]
  },
  {
   "cell_type": "markdown",
   "metadata": {},
   "source": [
    "The machine learning model which is used in this project is Random Forest classifier which predicts higher accuracy 94%."
   ]
  },
  {
   "cell_type": "markdown",
   "metadata": {},
   "source": [
    "One of the important goal of this project is to find the important feature affecting the performance rating. The important features were predicted using the machine learning model feature importance technique. The main technique used in the preprocessing data using the Label Encoding method to convert the string - categorical data into numerical data, because, Most of machine learning methods are based on numerical methods where strings are not supportive. The overall project was performed and achieved the goals by using the machine learning model and visualization techniques."
   ]
  },
  {
   "cell_type": "markdown",
   "metadata": {},
   "source": [
    "# <i>1. Requirement</i>\n",
    "The data was given from the IABAC for this project where the collected source is IABAC™. The data is based on INX Future Inc, (referred as INX ). It is one of the leading data analytics and automation solutions provider with over 15 years of global business presence. INX is consistently rated as top 20 best employers past 5 \n",
    "years. The data is not from the real organization. The whole project was done in Jupiter notebook with python platform."
   ]
  },
  {
   "cell_type": "markdown",
   "metadata": {},
   "source": [
    "# Data Cleaning\n",
    "The Data cleaning and wrangling is the part of the Data science project where the workflow the project go through this stage. because the damaged and missing data will lead to the disaster in the accuracy and quality of the model. If the data is already structured and cleaned, there is no need for the data cleaning. In this case, the given data is well structured and cleaned and there are no missing data present in this data."
   ]
  },
  {
   "cell_type": "markdown",
   "metadata": {},
   "source": [
    "# Machine Learning Model\n",
    "The machine learning models used in this project are\n",
    "\n",
    "1. SVM Classifier\n",
    "2. Random Forest classifier\n",
    "3. DecisionTreeClassifier\n",
    "4. MLPClassifier\n",
    "\n",
    "\n",
    "Both machine learning algorithms are best for classification and labelled data. The train and test data are divided and fitted into the model and passed through the machine learning. The predicted data and test data achieved the accuracy rate of,\n",
    "\n",
    "* SVM Classifier: 75%\n",
    "* Random Forest classifier: 93%\n",
    "* DecisionTreeClassifier: 75%\n",
    "* MLPClassifier: 80%\n"
   ]
  },
  {
   "cell_type": "markdown",
   "metadata": {},
   "source": [
    "# <i>3. Summary</i>\n",
    "The machine learning model has been fitted and predicted with the accuracy score. The goal of this project is nothing but the results from the analysis and machine learning model."
   ]
  },
  {
   "cell_type": "markdown",
   "metadata": {},
   "source": [
    "## Goal 1: Department wise performances\n",
    "In department wise performance, we have to analyze the data from each department present in the category. The data frame has to be separated or sliced according to department wise. In Employee department feature there are six departments available. The performance analysis by the department as follows:\n",
    "\n",
    "* <b>Sales:</b> The excellent Performance is more in the sales department. The male performance rating little bit higher compared to female. The total work experience does not count the performance rating.\n",
    "\n",
    "* <b>Human Resources:</b> The majority of the employees lying under the excellent performance. The older people are performing low in this department. The female employees in HR department doing really well in their performance. The total work experience does matter to performance in this department.\n",
    "\n",
    "* <b>Development:</b> The largest number of employees are excellent performers. Employees of all age are belongs from excellent performance. The gender-based performance is nearly same for both.\n",
    "\n",
    "* <b>Data Science:</b> The highest average of excellence performance is in data science department. Data science is the only department where less number of good performers. The overall performance is higher compared to all departments. The age does not count as an important factor in their performance. Male employees are doing good in this department. Same like HR, the number of work experience does matter.\n",
    "\n",
    "* <b>Research & Development:</b> The age factor is not deviating from the level of performance here where different employees with different age are there in every level of performance. The R&D has the good female employees in their performance.\n",
    "\n",
    "* <b>Finance:</b> The finance department performance is exponentially decreasing when age increases. The male employees are doing good. The experience factor is inversely relating to the performance level."
   ]
  },
  {
   "cell_type": "markdown",
   "metadata": {},
   "source": [
    "## 2. Top 3 Important Factors effecting employee performance"
   ]
  },
  {
   "cell_type": "markdown",
   "metadata": {},
   "source": [
    "The Feature Selection Technique in sklearn also contains a very convenient and most useful attribute feature importance which tells us which features in our dataset has given most importance through ML. From correlation barplot also we get important features. Both Techqiues are giving same results.\n",
    "The top three important features affecting the performance rating are ordered with their importance level as follows,\n",
    "\n",
    "1. Employment Environment Satisfaction\n",
    "2. Employee Salary Hike Percentage\n",
    "3. Experience Years In CurrentRole\n",
    "\n",
    "### The three most important factors effecting the performance of an employee listed below:\n",
    "\n",
    " - EmpLastSalaryHikePercent  ---    21.19\n",
    " - EmpEnvironmentSatisfaction---    19.33\n",
    " - YearsSinceLastPromotion   ---    9.56   "
   ]
  },
  {
   "cell_type": "markdown",
   "metadata": {},
   "source": [
    "## Goal 3: A Trained model which can predict the employee performance\n",
    "The trained model is created using the machine learning algorithm as follows with the accuracy score,\n",
    "\n",
    "* Random Forest classifier: 96% accuracy"
   ]
  },
  {
   "cell_type": "markdown",
   "metadata": {},
   "source": [
    "## Goal 4: Recommendations to improve the employee performance\n",
    "* The overall employee performance can be achieved by <b>employee environment satisfaction</b>. The company needs to focus more on the employee environment satisfaction.\n",
    "* The <b>salary hike</b> will give the boost to the employees to perform well financially and psychologically.\n",
    "* The promotion will help the employees to achieve more performance by giving the chance to be more responsible and leadership qualities.\n",
    "* The <b>experience years in current role</b> need to be revised while offering the employment to the new employees.\n",
    "* <b>Employee's work-life balance</b> affects the performance rating.\n",
    "* While recruiting for HR, consider the female candidates where they perform well compared to male.\n",
    "* The development and sales department is having an overall higher performance comparing to rest of the departments.\n",
    "* While some of the employees who gives feedback like <b>Low & Medium</b> from <b>Job Satisfaction & Relationship Satisfaction</b> feature, such employees gives <b>Excellent</b> performance more in number. So company should focus on them."
   ]
  },
  {
   "cell_type": "markdown",
   "metadata": {},
   "source": []
  }
 ],
 "metadata": {
  "kernelspec": {
   "display_name": "Python 3 (ipykernel)",
   "language": "python",
   "name": "python3"
  }
 },
 "nbformat": 4,
 "nbformat_minor": 4
}
